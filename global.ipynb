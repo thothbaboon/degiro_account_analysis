{
 "cells": [
  {
   "cell_type": "markdown",
   "metadata": {},
   "source": [
    "# Global Degiro Account PnL\n",
    "\n",
    "## Importing the Transactions"
   ]
  },
  {
   "cell_type": "code",
   "execution_count": null,
   "metadata": {},
   "outputs": [],
   "source": [
    "import pandas as pd\n",
    "\n",
    "trx_df = pd.read_csv(\n",
    "    \"data/Transactions.csv\",\n",
    "    encoding=\"utf-8-sig\",\n",
    "    sep=\",\",\n",
    "    usecols=[\"Produit\", \"Code ISIN\", \"Quantité\", \"Montant négocié\"],\n",
    ")\n",
    "trx_df.rename(columns={\"Produit\": \"Product\", \"Code ISIN\": \"ISIN\", \"Quantité\": \"Quantity\", \"Montant négocié\": \"Negociated amount\"}, inplace=True)\n",
    "\n",
    "trx_df.head()"
   ]
  },
  {
   "cell_type": "markdown",
   "metadata": {},
   "source": [
    "## Getting Market Prices and Fx Rates\n",
    "\n",
    "- The Porfolio CSV gives the market price of the positions at the moment of the download\n",
    "- Some positions are in USD. But the csv gives also the EUR amount, which makes it possible to compute the rate."
   ]
  },
  {
   "cell_type": "code",
   "execution_count": null,
   "metadata": {},
   "outputs": [],
   "source": [
    "portfolio_df = pd.read_csv(\n",
    "    \"data/Portfolio.csv\",\n",
    "    encoding=\"utf-8-sig\",\n",
    "    sep=\",\",\n",
    "    usecols=[\"Ticker/ISIN\", \"Clôture\", \"Devise\", \"Montant en EUR\"],\n",
    ")\n",
    "portfolio_df[\"Devise\"] = portfolio_df[\"Devise\"].str.split(\" \").str[1]\n",
    "portfolio_df.rename(columns={\"Ticker/ISIN\": \"ISIN\", \"Clôture\": \"Market price\", \"Devise\": \"Amount in Original Currency\", \"Montant en EUR\": \"Amount in EUR\"}, inplace=True)\n",
    "\n",
    "# Rows with NA are not needed, let's drop them\n",
    "portfolio_df = portfolio_df.dropna()\n",
    "\n",
    "# Convert to float\n",
    "portfolio_df[\"Market price\"] = portfolio_df[\"Market price\"].str.replace(\",\", \".\", regex=False)\n",
    "portfolio_df[\"Market price\"] = portfolio_df[\"Market price\"].astype(float)\n",
    "portfolio_df[\"Amount in EUR\"] = portfolio_df[\"Amount in EUR\"].str.replace(\",\", \".\", regex=False)\n",
    "portfolio_df[\"Amount in EUR\"] = portfolio_df[\"Amount in EUR\"].astype(float)\n",
    "portfolio_df[\"Amount in Original Currency\"] = portfolio_df[\"Amount in Original Currency\"].astype(float)\n",
    "\n",
    "portfolio_df.head()"
   ]
  },
  {
   "cell_type": "code",
   "execution_count": null,
   "metadata": {},
   "outputs": [],
   "source": [
    "portfolio_df[\"fx_rate\"] = portfolio_df[\"Amount in EUR\"] / portfolio_df[\"Amount in Original Currency\"]\n",
    "portfolio_df.head()"
   ]
  },
  {
   "cell_type": "markdown",
   "metadata": {},
   "source": [
    "## Enriching the Transactions with Market Price and Fx Rates"
   ]
  },
  {
   "cell_type": "code",
   "execution_count": null,
   "metadata": {},
   "outputs": [],
   "source": [
    "# We don't need these columns anymore as fx_rate as been calculated\n",
    "portfolio_df.drop(columns=[\"Amount in Original Currency\", \"Amount in EUR\"], inplace=True)\n",
    "\n",
    "df = pd.merge(trx_df, portfolio_df, left_on=\"ISIN\", right_on=\"ISIN\", how=\"left\")\n",
    "\n",
    "df.head()"
   ]
  },
  {
   "cell_type": "markdown",
   "metadata": {},
   "source": [
    "## Grouping Transactions by Product"
   ]
  },
  {
   "cell_type": "code",
   "execution_count": null,
   "metadata": {},
   "outputs": [],
   "source": [
    "lines = df.groupby([\"Product\", \"ISIN\"]).agg({\n",
    "    \"Quantity\": \"sum\",\n",
    "    \"Negociated amount\": \"sum\",\n",
    "    \"Market price\": \"first\",\n",
    "    \"fx_rate\": \"first\"\n",
    "})\n",
    "\n",
    "lines"
   ]
  },
  {
   "cell_type": "markdown",
   "metadata": {},
   "source": [
    "## Getting the Dividends and Taxes on Dividends\n",
    "\n",
    "Problem: some dividends are in USD, and it's not possible to compute the FX rate with the data from the CSV files."
   ]
  },
  {
   "cell_type": "code",
   "execution_count": null,
   "metadata": {},
   "outputs": [],
   "source": [
    "account_df = pd.read_csv(\n",
    "    \"data/Account.csv\",\n",
    "    encoding=\"utf-8-sig\",\n",
    "    sep=\",\",\n",
    "    usecols=[\"Code ISIN\", \"Description\", \"Mouvements\", \"Unnamed: 8\"],\n",
    ")\n",
    "account_df.rename(columns={\"Code ISIN\": \"ISIN\", \"Description\": \"Kind\", \"Mouvements\": \"Currency\", \"Unnamed: 8\": \"Amount\"}, inplace=True)\n",
    "\n",
    "dividend_df = account_df[account_df[\"Kind\"].isin([\"Dividende\"])]\n",
    "dividend_df = dividend_df.groupby([\"ISIN\", \"Currency\"]).agg({\"Amount\": \"sum\"})\n",
    "dividend_df.reset_index(inplace=True)\n",
    "dividend_df.set_index(\"ISIN\", inplace=True)\n",
    "dividend_df.head()"
   ]
  },
  {
   "cell_type": "code",
   "execution_count": null,
   "metadata": {},
   "outputs": [],
   "source": [
    "tax_df = account_df[account_df[\"Kind\"] == \"Impôts sur dividende\"]\n",
    "tax_df = tax_df.groupby([\"ISIN\", \"Currency\"]).agg({\"Amount\": \"sum\"})\n",
    "tax_df.reset_index(inplace=True)\n",
    "tax_df.set_index(\"ISIN\", inplace=True)\n",
    "tax_df"
   ]
  },
  {
   "cell_type": "markdown",
   "metadata": {},
   "source": [
    "## Computing the PnL for each Product\n",
    "\n",
    "For the closed positions, market price is NaN. In this cases, \"Negociated Amount\" is the realized PnL.\n",
    "\n",
    "When market price is not NaN, it means some positions are open for this product.\n",
    "Therefore, \"Negociated Amount\" is the cost basis.  \n",
    "But some positions might have been closed already for this product.\n",
    "In this situation \"Negociated Amount\" might contains some realized PnL as well."
   ]
  },
  {
   "cell_type": "code",
   "execution_count": null,
   "metadata": {},
   "outputs": [],
   "source": [
    "lines.fillna({\"Market price\": 0, \"fx_rate\": 0 }, inplace=True)\n",
    "\n",
    "lines.reset_index(inplace=True)\n",
    "lines.set_index(\"ISIN\", inplace=True)\n",
    "\n",
    "lines = pd.merge(lines,tax_df[[\"Amount\"]], on=\"ISIN\", how=\"left\")\n",
    "lines.rename(columns={\"Amount\": \"Tax\"}, inplace=True)\n",
    "lines[\"Tax\"] = lines[\"Tax\"].fillna(0)\n",
    "\n",
    "lines = pd.merge(lines,dividend_df[[\"Amount\", \"Currency\"]], on=\"ISIN\", how=\"left\")\n",
    "lines.rename(columns={\"Amount\": \"Dividend\", \"Currency\": \"Dividend Currency\"}, inplace=True)\n",
    "lines[\"Dividend\"] = lines[\"Dividend\"].fillna(0)\n",
    "lines[\"Dividend Currency\"] = lines[\"Dividend Currency\"].fillna(\"EUR\")\n",
    "\n",
    "lines[\"Net Dividend\"] = lines[\"Dividend\"] + lines[\"Tax\"]\n",
    "lines.drop(columns=[\"Tax\", \"Dividend\"], inplace=True)\n",
    "\n",
    "lines[\"PnL\"] = lines[\"Negociated amount\"] + (lines[\"Quantity\"] * lines[\"Market price\"] * lines[\"fx_rate\"])\n",
    "\n",
    "pnl_without_dividends = lines[\"PnL\"].sum()\n",
    "\n",
    "pnl_lines = lines.copy()\n",
    "\n",
    "# Build as Str to mix USD dividends and EUR PnL\n",
    "pnl_lines[\"PnL\"] = pnl_lines.apply(\n",
    "    lambda row: f\"{row['PnL']:.2f} EUR\" + \n",
    "    (f\" + {row['Net Dividend']:.2f} {row['Dividend Currency']}\" if row['Net Dividend'] != 0 else \"\"),\n",
    "    axis=1\n",
    ")\n",
    "\n",
    "# Cleaning\n",
    "pnl_lines[\"Has Open Positions\"] = pnl_lines[\"Quantity\"].gt(0)\n",
    "pnl_lines.drop(columns=[\"Net Dividend\", \"Dividend Currency\", \"fx_rate\", \"Market price\", \"Negociated amount\", \"Quantity\"], inplace=True)\n",
    "\n",
    "\n",
    "\n",
    "pnl_lines"
   ]
  },
  {
   "cell_type": "code",
   "execution_count": null,
   "metadata": {},
   "outputs": [],
   "source": [
    "net_eur_dividends = dividend_df[dividend_df[\"Currency\"] == \"EUR\"][\"Amount\"].sum() + tax_df[tax_df[\"Currency\"] == \"EUR\"][\"Amount\"].sum()\n",
    "net_usd_dividends = dividend_df[dividend_df[\"Currency\"] == \"USD\"][\"Amount\"].sum() + tax_df[tax_df[\"Currency\"] == \"USD\"][\"Amount\"].sum()\n",
    "\n",
    "net_eur_dividends\n",
    "net_usd_dividends"
   ]
  },
  {
   "cell_type": "markdown",
   "metadata": {},
   "source": [
    "## Computing Total Deposit on the Account "
   ]
  },
  {
   "cell_type": "code",
   "execution_count": null,
   "metadata": {},
   "outputs": [],
   "source": [
    "accounts_df = pd.read_csv(\n",
    "    \"data/Account.csv\",\n",
    "    encoding=\"utf-8-sig\",\n",
    "    sep=\",\",\n",
    "    usecols=[\"Description\", \"Mouvements\", \"Unnamed: 8\"],\n",
    ")\n",
    "\n",
    "deposits_df = accounts_df[accounts_df[\"Description\"] == \"Dépôt flatex\"].copy()\n",
    "deposits_df.rename(columns={\"Mouvements\": \"Currency\", \"Unnamed: 8\": \"Amount\"}, inplace=True)\n",
    "total_deposits = deposits_df.Amount.sum()\n",
    "\n",
    "# I have no withdrawals to take into account, only deposits\n",
    "\n",
    "total_deposits"
   ]
  },
  {
   "cell_type": "markdown",
   "metadata": {},
   "source": [
    "## Finding Account Balance"
   ]
  },
  {
   "cell_type": "code",
   "execution_count": null,
   "metadata": {},
   "outputs": [],
   "source": [
    "portfolio_df = pd.read_csv(\n",
    "    \"data/Portfolio.csv\",\n",
    "    encoding=\"utf-8-sig\",\n",
    "    sep=\",\",\n",
    "    usecols=[\"Produit\", \"Montant en EUR\"],\n",
    ")\n",
    "portfolio_df = portfolio_df[portfolio_df[\"Produit\"].str.contains(\"CASH & CASH FUND & FTX CASH\")]\n",
    "portfolio_df[\"Montant en EUR\"] = portfolio_df[\"Montant en EUR\"].str.replace(\",\", \".\", regex=False)\n",
    "portfolio_df[\"Montant en EUR\"] = portfolio_df[\"Montant en EUR\"].astype(float)\n",
    "account_balance = portfolio_df[\"Montant en EUR\"].sum()\n",
    "\n",
    "account_balance\n"
   ]
  },
  {
   "cell_type": "markdown",
   "metadata": {},
   "source": [
    "## Computing Account Total Valuation"
   ]
  },
  {
   "cell_type": "code",
   "execution_count": null,
   "metadata": {},
   "outputs": [],
   "source": [
    "account_valuation = (lines[\"Quantity\"] * lines[\"Market price\"] * lines[\"fx_rate\"]).sum() + account_balance\n",
    "account_valuation"
   ]
  },
  {
   "cell_type": "markdown",
   "metadata": {},
   "source": [
    "## Account Global Analysis"
   ]
  },
  {
   "cell_type": "code",
   "execution_count": null,
   "metadata": {},
   "outputs": [],
   "source": [
    "print(f\"Total Deposits: €{total_deposits:,.2f}\")\n",
    "print(f\"Current Portfolio Value: €{account_valuation:,.2f}\")\n",
    "print(f\"Portfolio Performance: €{account_valuation - total_deposits:,.2f}\")\n",
    "\n",
    "print(f\"Total PnL (without dividends): €{pnl_without_dividends:,.2f}\")\n",
    "print(f\"Total EUR Dividends: €{net_eur_dividends:,.2f}\")\n",
    "print(f\"Total USD Dividends: ${net_usd_dividends:,.2f}\")"
   ]
  }
 ],
 "metadata": {
  "kernelspec": {
   "display_name": "venv",
   "language": "python",
   "name": "python3"
  },
  "language_info": {
   "codemirror_mode": {
    "name": "ipython",
    "version": 3
   },
   "file_extension": ".py",
   "mimetype": "text/x-python",
   "name": "python",
   "nbconvert_exporter": "python",
   "pygments_lexer": "ipython3",
   "version": "3.13.1"
  }
 },
 "nbformat": 4,
 "nbformat_minor": 2
}
