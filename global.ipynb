{
 "cells": [
  {
   "cell_type": "code",
   "execution_count": null,
   "metadata": {},
   "outputs": [],
   "source": [
    "import pandas as pd\n",
    "\n",
    "trx_df = pd.read_csv(\n",
    "    \"data/Transactions.csv\",\n",
    "    encoding=\"utf-8-sig\",\n",
    "    sep=\",\",\n",
    "    usecols=[\"Produit\", \"Code ISIN\", \"Quantité\", \"Montant négocié\"],\n",
    ")\n",
    "trx_df.rename(columns={\"Produit\": \"Product\", \"Code ISIN\": \"ISIN\", \"Quantité\": \"Quantity\", \"Montant négocié\": \"Negociated amount\"}, inplace=True)\n",
    "\n",
    "trx_df.head()"
   ]
  },
  {
   "cell_type": "code",
   "execution_count": null,
   "metadata": {},
   "outputs": [],
   "source": [
    "portfolio_df = pd.read_csv(\n",
    "    \"data/Portfolio.csv\",\n",
    "    encoding=\"utf-8-sig\",\n",
    "    sep=\",\",\n",
    "    usecols=[\"Ticker/ISIN\", \"Clôture\", \"Devise\", \"Montant en EUR\"],\n",
    ")\n",
    "portfolio_df[\"Devise\"] = portfolio_df[\"Devise\"].str.split(\" \").str[1]\n",
    "portfolio_df.rename(columns={\"Ticker/ISIN\": \"ISIN\", \"Clôture\": \"Market price\", \"Devise\": \"Amount in Original Currency\", \"Montant en EUR\": \"Amount in EUR\"}, inplace=True)\n",
    "\n",
    "# NA are not values that we need, let's drop them\n",
    "portfolio_df = portfolio_df.dropna()\n",
    "\n",
    "# Convert to float\n",
    "portfolio_df[\"Market price\"] = portfolio_df[\"Market price\"].str.replace(\",\", \".\", regex=False)\n",
    "portfolio_df[\"Market price\"] = portfolio_df[\"Market price\"].astype(float)\n",
    "portfolio_df[\"Amount in EUR\"] = portfolio_df[\"Amount in EUR\"].str.replace(\",\", \".\", regex=False)\n",
    "portfolio_df[\"Amount in EUR\"] = portfolio_df[\"Amount in EUR\"].astype(float)\n",
    "portfolio_df[\"Amount in Original Currency\"] = portfolio_df[\"Amount in Original Currency\"].astype(float)\n",
    "\n",
    "portfolio_df.head()"
   ]
  },
  {
   "cell_type": "code",
   "execution_count": null,
   "metadata": {},
   "outputs": [],
   "source": [
    "portfolio_df[\"fx_rate\"] = portfolio_df[\"Amount in EUR\"] / portfolio_df[\"Amount in Original Currency\"]\n",
    "portfolio_df.head()"
   ]
  },
  {
   "cell_type": "code",
   "execution_count": null,
   "metadata": {},
   "outputs": [],
   "source": [
    "# We don't need these columns anymore as fx_rate as been calculated\n",
    "portfolio_df.drop(columns=[\"Amount in Original Currency\", \"Amount in EUR\"], inplace=True)\n",
    "\n",
    "\n",
    "df = pd.merge(trx_df, portfolio_df, left_on=\"ISIN\", right_on=\"ISIN\", how=\"left\")\n",
    "\n",
    "df.head()"
   ]
  },
  {
   "cell_type": "code",
   "execution_count": null,
   "metadata": {},
   "outputs": [],
   "source": [
    "lines = df.groupby([\"Product\", \"ISIN\"]).agg({\n",
    "    \"Quantity\": \"sum\",\n",
    "    \"Negociated amount\": \"sum\",\n",
    "    \"Market price\": \"first\",\n",
    "    \"fx_rate\": \"first\"\n",
    "})\n",
    "\n",
    "lines"
   ]
  },
  {
   "cell_type": "code",
   "execution_count": null,
   "metadata": {},
   "outputs": [],
   "source": [
    "account_df = pd.read_csv(\n",
    "    \"data/Account.csv\",\n",
    "    encoding=\"utf-8-sig\",\n",
    "    sep=\",\",\n",
    "    usecols=[\"Code ISIN\", \"Description\", \"Mouvements\", \"Unnamed: 8\"],\n",
    ")\n",
    "account_df.rename(columns={\"Code ISIN\": \"ISIN\", \"Description\": \"Kind\", \"Mouvements\": \"Currency\", \"Unnamed: 8\": \"Amount\"}, inplace=True)\n",
    "\n",
    "# TODO: handle USD dividends (how to find fx rate?)\n",
    "dividend_df = account_df[account_df[\"Kind\"].isin([\"Dividende\"])]\n",
    "dividend_df = dividend_df.groupby([\"ISIN\", \"Currency\"]).agg({\"Amount\": \"sum\"})\n",
    "dividend_df.reset_index(inplace=True)\n",
    "dividend_df.set_index(\"ISIN\", inplace=True)\n",
    "dividend_df.head()"
   ]
  },
  {
   "cell_type": "code",
   "execution_count": null,
   "metadata": {},
   "outputs": [],
   "source": [
    "tax_df = account_df[account_df[\"Kind\"] == \"Impôts sur dividende\"]\n",
    "tax_df = tax_df.groupby([\"ISIN\", \"Currency\"]).agg({\"Amount\": \"sum\"})\n",
    "tax_df.reset_index(inplace=True)\n",
    "tax_df.set_index(\"ISIN\", inplace=True)\n",
    "tax_df"
   ]
  },
  {
   "cell_type": "code",
   "execution_count": null,
   "metadata": {},
   "outputs": [],
   "source": [
    "# Market Price is NaN when all positions have been sold.\n",
    "# Then, negociated amount is the PnL for this asset.\n",
    "\n",
    "# When Market Price is not NaN, we still have all/some positions for this asset.\n",
    "# Need to compute the unrealized PnL based on the market price.\n",
    "# Negociated amount represents what we paid for this asset (cost basis), and might include some realized PnL.\n",
    "\n",
    "lines.fillna({\"Market price\": 0, \"fx_rate\": 0 }, inplace=True)\n",
    "\n",
    "lines.reset_index(inplace=True)\n",
    "lines.set_index(\"ISIN\", inplace=True)\n",
    "\n",
    "lines = pd.merge(lines,tax_df[[\"Amount\"]], on=\"ISIN\", how=\"left\")\n",
    "lines.rename(columns={\"Amount\": \"Tax\"}, inplace=True)\n",
    "lines[\"Tax\"] = lines[\"Tax\"].fillna(0)\n",
    "\n",
    "lines = pd.merge(lines,dividend_df[[\"Amount\", \"Currency\"]], on=\"ISIN\", how=\"left\")\n",
    "lines.rename(columns={\"Amount\": \"Dividend\", \"Currency\": \"Dividend Currency\"}, inplace=True)\n",
    "lines[\"Dividend\"] = lines[\"Dividend\"].fillna(0)\n",
    "lines[\"Dividend Currency\"] = lines[\"Dividend Currency\"].fillna(\"\")\n",
    "\n",
    "lines[\"Net Dividend\"] = lines[\"Dividend\"] + lines[\"Tax\"]\n",
    "lines.drop(columns=[\"Tax\", \"Dividend\"], inplace=True)\n",
    "\n",
    "lines[\"Realized and/or Unrealized PnL\"] = lines[\"Negociated amount\"] + (lines[\"Quantity\"] * lines[\"Market price\"] * lines[\"fx_rate\"])\n",
    "\n",
    "lines"
   ]
  },
  {
   "cell_type": "code",
   "execution_count": null,
   "metadata": {},
   "outputs": [],
   "source": [
    "# Don't have the same result as in Degiro UI because of rounding - less precision in the CSV file for some assets market price\n",
    "lines[\"Realized and/or Unrealized PnL\"].sum() + lines[\"Net Dividend\"].sum()"
   ]
  }
 ],
 "metadata": {
  "kernelspec": {
   "display_name": "venv",
   "language": "python",
   "name": "python3"
  },
  "language_info": {
   "codemirror_mode": {
    "name": "ipython",
    "version": 3
   },
   "file_extension": ".py",
   "mimetype": "text/x-python",
   "name": "python",
   "nbconvert_exporter": "python",
   "pygments_lexer": "ipython3",
   "version": "3.13.1"
  }
 },
 "nbformat": 4,
 "nbformat_minor": 2
}
