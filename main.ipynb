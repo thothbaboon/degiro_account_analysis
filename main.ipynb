{
 "cells": [
  {
   "cell_type": "code",
   "execution_count": null,
   "metadata": {},
   "outputs": [],
   "source": [
    "import pandas as pd\n",
    "\n",
    "trx_df = pd.read_csv(\n",
    "    \"data/Transactions.csv\",\n",
    "    encoding=\"utf-8-sig\",\n",
    "    sep=\",\",\n",
    "    usecols=[\"Date\", \"Heure\", \"Produit\", \"Code ISIN\", \"Quantité\", \"Montant négocié\"],\n",
    ")\n",
    "\n",
    "trx_df.head()"
   ]
  },
  {
   "cell_type": "code",
   "execution_count": null,
   "metadata": {},
   "outputs": [],
   "source": [
    "portfolio_df = pd.read_csv(\n",
    "    \"data/Portfolio.csv\",\n",
    "    encoding=\"utf-8-sig\",\n",
    "    sep=\",\",\n",
    "    usecols=[\"Ticker/ISIN\", \"Clôture\", \"Devise\", \"Montant en EUR\"],\n",
    ")\n",
    "\n",
    "portfolio_df[\"Devise\"] = portfolio_df[\"Devise\"].str.split(\" \").str[1]\n",
    "\n",
    "# NA are not values that we need, let's drop them\n",
    "portfolio_df = portfolio_df.dropna()\n",
    "\n",
    "# Convert to float\n",
    "portfolio_df[\"Clôture\"] = portfolio_df[\"Clôture\"].str.replace(\",\", \".\", regex=False)\n",
    "portfolio_df[\"Clôture\"] = portfolio_df[\"Clôture\"].astype(float)\n",
    "portfolio_df[\"Montant en EUR\"] = portfolio_df[\"Montant en EUR\"].str.replace(\",\", \".\", regex=False)\n",
    "portfolio_df[\"Montant en EUR\"] = portfolio_df[\"Montant en EUR\"].astype(float)\n",
    "portfolio_df[\"Devise\"] = portfolio_df[\"Devise\"].astype(float)\n",
    "\n",
    "portfolio_df.head()"
   ]
  },
  {
   "cell_type": "code",
   "execution_count": null,
   "metadata": {},
   "outputs": [],
   "source": [
    "# Should be either A for EUR to EUR, or the same everywhere for USD to EUR as same time for all (so same rate)\n",
    "portfolio_df[\"fx_rate\"] = portfolio_df[\"Montant en EUR\"] / portfolio_df[\"Devise\"]\n",
    "portfolio_df.head()"
   ]
  },
  {
   "cell_type": "code",
   "execution_count": null,
   "metadata": {},
   "outputs": [],
   "source": [
    "# We don't need these columns anymore as fx_rate as been calculated\n",
    "portfolio_df.drop(columns=[\"Montant en EUR\", \"Devise\"], inplace=True)\n",
    "\n",
    "\n",
    "df = pd.merge(trx_df, portfolio_df, left_on=\"Code ISIN\", right_on=\"Ticker/ISIN\", how=\"left\")\n",
    "df.drop(columns=[\"Ticker/ISIN\"], inplace=True)\n",
    "\n",
    "df.head()"
   ]
  },
  {
   "cell_type": "code",
   "execution_count": null,
   "metadata": {},
   "outputs": [],
   "source": [
    "lines = df.groupby([\"Produit\", \"Code ISIN\"]).agg({\n",
    "    \"Quantité\": \"sum\",\n",
    "    \"Montant négocié\": \"sum\",\n",
    "    \"Clôture\": \"first\",\n",
    "    \"fx_rate\": \"first\"\n",
    "})\n",
    "\n",
    "lines"
   ]
  },
  {
   "cell_type": "code",
   "execution_count": null,
   "metadata": {},
   "outputs": [],
   "source": [
    "# Clôture is NaN when all positions have been sold.\n",
    "# Montant négocié is the gains/losses for this asset.\n",
    "# When Clôture is not NaN, we still have all/some positions for this asset.\n",
    "# Need to compute the gains/losses based on the market price (Clôture).\n",
    "# Montant négocié represents what we paid for this asset, and might include some gains/losses already if partially sold.\n",
    "\n",
    "lines.fillna({\"Clôture\": 0, \"fx_rate\": 0 }, inplace=True)\n",
    "lines[\"Gains/Losses\"] = lines[\"Montant négocié\"] + (lines[\"Quantité\"] * lines[\"Clôture\"] * lines[\"fx_rate\"])\n",
    "\n",
    "lines"
   ]
  },
  {
   "cell_type": "code",
   "execution_count": null,
   "metadata": {},
   "outputs": [],
   "source": [
    "# Don't have the same result as in Degiro UI because of rounding - less precision in the CSV file\n",
    "lines[\"Gains/Losses\"].sum()"
   ]
  }
 ],
 "metadata": {
  "kernelspec": {
   "display_name": "venv",
   "language": "python",
   "name": "python3"
  },
  "language_info": {
   "codemirror_mode": {
    "name": "ipython",
    "version": 3
   },
   "file_extension": ".py",
   "mimetype": "text/x-python",
   "name": "python",
   "nbconvert_exporter": "python",
   "pygments_lexer": "ipython3",
   "version": "3.13.1"
  }
 },
 "nbformat": 4,
 "nbformat_minor": 2
}
